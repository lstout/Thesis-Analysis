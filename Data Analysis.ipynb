{
 "cells": [
  {
   "cell_type": "markdown",
   "metadata": {},
   "source": [
    "# Data Analysis\n"
   ]
  },
  {
   "cell_type": "code",
   "execution_count": 1,
   "metadata": {
    "collapsed": false
   },
   "outputs": [],
   "source": [
    "%matplotlib inline\n",
    "\n",
    "import pandas as pd\n",
    "import seaborn as sns\n",
    "import numpy as np\n",
    "from scipy import stats\n",
    "from scipy.spatial import ConvexHull"
   ]
  },
  {
   "cell_type": "code",
   "execution_count": 2,
   "metadata": {
    "collapsed": false
   },
   "outputs": [],
   "source": [
    "dtypes = {\n",
    "u'Ind_ID' : np.float,\n",
    "u'Exp_Num' : np.str, \n",
    "u'Exp_type' : np.str, \n",
    "u'probability' : np.float,\n",
    "u'lifetime': np.float,\n",
    "u'euclideanStep': np.float,\n",
    "u'manhattanStep': np.float,\n",
    "u'euclideanTotal': np.float,\n",
    "u'manhattanTotal': np.float,\n",
    "u'euclideanStepAlt': np.float,\n",
    "u'manhattanStepAlt': np.float,\n",
    "u'euclideanTotalAlt': np.float,\n",
    "u'manhattanTotalAlt': np.float,\n",
    "u'absCellCountFat': np.float,\n",
    "u'absCellCountMuscle': np.float,\n",
    "u'absCellCountBone': np.float,\n",
    "u'absCellCount': np.float,\n",
    "u'relCellCountFat': np.float,\n",
    "u'relCellCountMuscle': np.float,\n",
    "u'relCellCountBone': np.float,\n",
    "u'absCellCountFatAlt': np.float,\n",
    "u'absCellCountMuscleAlt': np.float,\n",
    "u'absCellCountBoneAlt': np.float,\n",
    "u'absCellCountAlt': np.float,\n",
    "u'relCellCountFatAlt': np.float,\n",
    "u'relCellCountMuscleAlt': np.float,\n",
    "u'relCellCountBoneAlt': np.float,\n",
    "u'sizeXmax': np.float,\n",
    "u'sizeYmax': np.float,\n",
    "u'sizeZmax': np.float,\n",
    "u'sizeXmin': np.float,\n",
    "u'sizeYmin': np.float,\n",
    "u'sizeZmin': np.float,\n",
    "u'relHeight': np.float,\n",
    "u'muscleBottom': np.float,\n",
    "u'muscleTop': np.float,\n",
    "u'muscleCenter': np.float,\n",
    "u'muscleOuter': np.float,\n",
    "u'muscleCenterRel': np.float,\n",
    "u'muscleOuterRel': np.float,\n",
    "u'symmetricMuscleSame': np.float,\n",
    "u'symmetricMuscleOpposite': np.float,\n",
    "u'symmetricMuscleMissing': np.float,\n",
    "u'traceArcRadius': np.float,\n",
    "u'traceArcPercent': np.float,\n",
    "u'monotonyX': np.float,\n",
    "u'monotonyY': np.float,\n",
    "u'gaitPeriodX': np.float,\n",
    "u'gaitErrorX': np.float,\n",
    "u'gaitPeriodY': np.float,\n",
    "u'gaitErrorY': np.float,\n",
    "u'gaitPeriodZ': np.float,\n",
    "u'gaitErrorZ': np.float,\n",
    "u'hullRatio': np.float,\n",
    "u'triangles': np.float,\n",
    "u'limbs': np.float,\n",
    "u'shapeComplexity': np.float,\n",
    "u'CompositionEntropy': np.float,\n",
    "u'Arena_Size': np.str,\n",
    "u'birthtime' : np.float,\n",
    "}"
   ]
  },
  {
   "cell_type": "markdown",
   "metadata": {},
   "source": [
    "The experiments are clipped to 2000 individuals each, because the experiments because the experiments on the smaller arena only have 2000 individuals. In places where the effects of the other individuals might be useful they will be shown."
   ]
  },
  {
   "cell_type": "code",
   "execution_count": 3,
   "metadata": {
    "collapsed": false
   },
   "outputs": [],
   "source": [
    "df_bigger = pd.read_csv('data.csv', na_values=['NA','N','A'], dtype=dtypes)\n",
    "df_bigger = df_bigger[df_bigger.Ind_ID < 5000]\n",
    "\n",
    "df_smaller_with = pd.read_csv('data_fgolemo_2016-01-11.csv', na_values=['NA', 'N', 'A'], dtype=dtypes)\n",
    "df_smaller_without = pd.read_csv('data_jheinerm_2016-01-11.csv', na_values=['NA','N','A'], dtype=dtypes)\n",
    "df_smaller = pd.concat([df_smaller_with, df_smaller_without])\n",
    "df_smaller = df_smaller[df_smaller.Ind_ID < 5000]\n",
    "\n",
    "df_bigger['Arena_Size'] = 'big'\n",
    "df_smaller['Arena_Size'] = 'small'\n",
    "df = pd.concat([df_bigger[df_bigger.Ind_ID < 2000], df_smaller])\n",
    "\n",
    "df['deathtime'] = df.lifetime + df.birthtime"
   ]
  },
  {
   "cell_type": "markdown",
   "metadata": {},
   "source": [
    "Can we use individual ID as proxy for generation/birthtime?"
   ]
  },
  {
   "cell_type": "code",
   "execution_count": 4,
   "metadata": {
    "collapsed": false,
    "scrolled": false
   },
   "outputs": [
    {
     "name": "stderr",
     "output_type": "stream",
     "text": [
      "/usr/local/lib/python2.7/site-packages/numpy/core/_methods.py:59: RuntimeWarning: Mean of empty slice.\n",
      "  warnings.warn(\"Mean of empty slice.\", RuntimeWarning)\n"
     ]
    },
    {
     "ename": "NameError",
     "evalue": "name 'set_alpha_axes' is not defined",
     "output_type": "error",
     "traceback": [
      "\u001b[0;31m---------------------------------------------------------------------------\u001b[0m",
      "\u001b[0;31mNameError\u001b[0m                                 Traceback (most recent call last)",
      "\u001b[0;32m<ipython-input-4-0d68670d6a72>\u001b[0m in \u001b[0;36m<module>\u001b[0;34m()\u001b[0m\n\u001b[1;32m      1\u001b[0m \u001b[0mFG\u001b[0m \u001b[0;34m=\u001b[0m \u001b[0msns\u001b[0m\u001b[0;34m.\u001b[0m\u001b[0mlmplot\u001b[0m\u001b[0;34m(\u001b[0m\u001b[0mdata\u001b[0m\u001b[0;34m=\u001b[0m\u001b[0mdf\u001b[0m\u001b[0;34m,\u001b[0m \u001b[0mx\u001b[0m\u001b[0;34m=\u001b[0m\u001b[0;34m'Ind_ID'\u001b[0m\u001b[0;34m,\u001b[0m \u001b[0my\u001b[0m\u001b[0;34m=\u001b[0m\u001b[0;34m'birthtime'\u001b[0m\u001b[0;34m,\u001b[0m \u001b[0mlowess\u001b[0m\u001b[0;34m=\u001b[0m\u001b[0mTrue\u001b[0m\u001b[0;34m,\u001b[0m \u001b[0mhue\u001b[0m\u001b[0;34m=\u001b[0m\u001b[0;34m'Exp_Num'\u001b[0m\u001b[0;34m,\u001b[0m \u001b[0mcol\u001b[0m\u001b[0;34m=\u001b[0m\u001b[0;34m'Arena_Size'\u001b[0m\u001b[0;34m,\u001b[0m \u001b[0mrow\u001b[0m\u001b[0;34m=\u001b[0m\u001b[0;34m'Exp_type'\u001b[0m\u001b[0;34m)\u001b[0m\u001b[0;34m\u001b[0m\u001b[0m\n\u001b[1;32m      2\u001b[0m \u001b[0;34m\u001b[0m\u001b[0m\n\u001b[0;32m----> 3\u001b[0;31m \u001b[0mset_alpha_axes\u001b[0m\u001b[0;34m(\u001b[0m\u001b[0mFG\u001b[0m\u001b[0;34m.\u001b[0m\u001b[0maxes\u001b[0m\u001b[0;34m,\u001b[0m \u001b[0;36m0.05\u001b[0m\u001b[0;34m)\u001b[0m\u001b[0;34m\u001b[0m\u001b[0m\n\u001b[0m\u001b[1;32m      4\u001b[0m \u001b[0mset_limits_axes\u001b[0m\u001b[0;34m(\u001b[0m\u001b[0mFG\u001b[0m\u001b[0;34m.\u001b[0m\u001b[0maxes\u001b[0m\u001b[0;34m,\u001b[0m \u001b[0;34m(\u001b[0m\u001b[0;36m0\u001b[0m\u001b[0;34m,\u001b[0m\u001b[0;36m2000\u001b[0m\u001b[0;34m)\u001b[0m\u001b[0;34m,\u001b[0m \u001b[0;34m(\u001b[0m\u001b[0;36m0\u001b[0m\u001b[0;34m,\u001b[0m\u001b[0;36m75\u001b[0m\u001b[0;34m)\u001b[0m\u001b[0;34m)\u001b[0m\u001b[0;34m;\u001b[0m\u001b[0;34m\u001b[0m\u001b[0m\n",
      "\u001b[0;31mNameError\u001b[0m: name 'set_alpha_axes' is not defined"
     ]
    },
    {
     "data": {
      "image/png": "[encoded data removed]",
      "text/plain": [
       "<matplotlib.figure.Figure at 0x110211b10>"
      ]
     },
     "metadata": {},
     "output_type": "display_data"
    }
   ],
   "source": [
    "FG = sns.lmplot(data=df, x='Ind_ID', y='birthtime', lowess=True, hue='Exp_Num', col='Arena_Size', row='Exp_type')\n",
    "\n",
    "set_alpha_axes(FG.axes, 0.05)\n",
    "set_limits_axes(FG.axes, (0,2000), (0,75));"
   ]
  },
  {
   "cell_type": "markdown",
   "metadata": {},
   "source": [
    "I think it makes more sense to use individual id as a proxy for which generation a individual is part of than to use birthtime. Birth time varies wildly between individuals of different experiments, eventhough they are part of the 'same generation'. Because of this Individual ID gives us a way better statistic to use in regressions.\n",
    "\n",
    "Worrysome is the fact the the birthtimes vary so wildly between experiments, not sure what the explanation is. Individuals are further apart so less individuals are being born? It only occurs in the experiments without disease?"
   ]
  },
  {
   "cell_type": "markdown",
   "metadata": {},
   "source": [
    "## Shape complexity\n",
    "These plots show the Shape Complexity over time (Using Individual id as a proxy for time). Literature shows that complexity in a evolutionary system increases over time [? No reference yet but heard Evert say something to this extent] \n",
    "\n",
    "All regression lines shown in this notebook are made using `lowess` regression, which might be seen as a locally weighted linear regession. [1]\n",
    "\n",
    "[1] - Cleveland, W.S. (1979) “Robust Locally Weighted Regression and Smoothing Scatterplots”. Journal of the American Statistical Association 74 (368): 829-836."
   ]
  },
  {
   "cell_type": "code",
   "execution_count": null,
   "metadata": {
    "collapsed": false
   },
   "outputs": [],
   "source": [
    "def set_alpha_axes(axes, alpha_level):\n",
    "    for axis in axes:\n",
    "        for ax in axis:\n",
    "            for handle in ax.get_legend_handles_labels()[0]:\n",
    "                handle.set_alpha(alpha_level)\n",
    "\n",
    "def set_limits_axes(axes, xlim, ylim):\n",
    "    for axis in axes:\n",
    "        for ax in axis:\n",
    "            ax.set_xlim(*xlim)\n",
    "            ax.set_ylim(*ylim)"
   ]
  },
  {
   "cell_type": "code",
   "execution_count": null,
   "metadata": {
    "collapsed": false
   },
   "outputs": [],
   "source": [
    "FG = sns.lmplot(data=df, x='Ind_ID', y='shapeComplexity', lowess=True, hue='Exp_type')\n",
    "\n",
    "set_alpha_axes(FG.axes, 0.05)\n",
    "set_limits_axes(FG.axes, (0,2000), (0,2));"
   ]
  },
  {
   "cell_type": "code",
   "execution_count": null,
   "metadata": {
    "collapsed": false
   },
   "outputs": [],
   "source": [
    "FG = sns.lmplot(data=df, x='Ind_ID', y='shapeComplexity', lowess=True, hue='Exp_type', col='Arena_Size')\n",
    "\n",
    "set_alpha_axes(FG.axes, 0.05)\n",
    "set_limits_axes(FG.axes, (0,2000), (0,2));"
   ]
  },
  {
   "cell_type": "code",
   "execution_count": null,
   "metadata": {
    "collapsed": false
   },
   "outputs": [],
   "source": [
    "FG = sns.lmplot(data=df, x='Ind_ID', y='shapeComplexity', lowess=True, hue='Exp_Num', row='Arena_Size', col='Exp_type')\n",
    "set_alpha_axes(FG.axes, 0.05)\n",
    "set_limits_axes(FG.axes, (0,2000), (0,2));"
   ]
  },
  {
   "cell_type": "code",
   "execution_count": null,
   "metadata": {
    "collapsed": false
   },
   "outputs": [],
   "source": [
    "df_small = df[df.Arena_Size == 'small']\n",
    "df_small_without = df_small[df_small.Exp_type == 'nd']\n",
    "df_small_with = df_small[df_small.Exp_type == 'wd']\n",
    "\n",
    "df_big = df[df.Arena_Size == 'big']\n",
    "df_big_without = df_big[df_big.Exp_type == 'nd']\n",
    "df_big_with = df_big[df_big.Exp_type == 'wd']\n",
    "\n",
    "df_without = df[df.Exp_type == 'nd']\n",
    "df_with = df[df.Exp_type == 'wd']"
   ]
  },
  {
   "cell_type": "markdown",
   "metadata": {},
   "source": [
    "### Statistical significance\n",
    "Using two-sample Kolmogorov-Smirnov tests on the Shape complexities of the different samples."
   ]
  },
  {
   "cell_type": "code",
   "execution_count": null,
   "metadata": {
    "collapsed": false
   },
   "outputs": [],
   "source": [
    "def ks_2sample_print(data_a, data_b):\n",
    "    p = stats.ks_2samp(data_a, data_b)[1]\n",
    "    print 'p-value:', p\n",
    "    print 'statistically significant :', p < 0.05\n",
    "    print"
   ]
  },
  {
   "cell_type": "code",
   "execution_count": null,
   "metadata": {
    "collapsed": false
   },
   "outputs": [],
   "source": [
    "print 'All experiments : without disease vs with disease'\n",
    "ks_2sample_print(df_without.shapeComplexity, df_with.shapeComplexity)\n",
    "\n",
    "print 'All experiments : first 100 of every experiment (without disease vs with disease) from same distribution? '\n",
    "ks_2sample_print(df_without[df_without.Ind_ID <= 100].shapeComplexity, df_with[df_with.Ind_ID <= 100].shapeComplexity)\n",
    "\n",
    "print 'All experiments : last 100 of every experiment (without disease vs with disease) from same distribution?'\n",
    "ks_2sample_print(df_without[df_without.Ind_ID >= 1900].shapeComplexity, df_with[df_with.Ind_ID >= 1900].shapeComplexity)\n",
    "\n",
    "\n",
    "print 80*'-'\n",
    "print\n",
    "\n",
    "print 'Big arena : without disease vs with disease'\n",
    "ks_2sample_print(df_big_without.shapeComplexity, df_big_with.shapeComplexity)\n",
    "\n",
    "print 'Big arena, first 100 of every experiment (without disease vs with disease) from same distribution? '\n",
    "ks_2sample_print(df_big_without[df_big_without.Ind_ID <= 100].shapeComplexity, df_big_with[df_big_with.Ind_ID <= 100].shapeComplexity)\n",
    "\n",
    "print 'Big arena, last 100 of every experiment (without disease vs with disease) from same distribution?'\n",
    "ks_2sample_print(df_big_without[df_big_without.Ind_ID >= 1900].shapeComplexity, df_big_with[df_big_with.Ind_ID >= 1900].shapeComplexity)\n",
    "\n",
    "print 80*'-'\n",
    "print\n",
    "\n",
    "\n",
    "print 'Small arena : without disease vs with disease'\n",
    "ks_2sample_print(df_small_without.shapeComplexity, df_small_with.shapeComplexity)\n",
    "\n",
    "print 'Small arena, first 100 of every experiment (without disease vs with disease) from same distribution?'\n",
    "ks_2sample_print(df_small_without[df_small_without.Ind_ID <= 100].shapeComplexity, df_small_with[df_small_with.Ind_ID <= 100].shapeComplexity)\n",
    "\n",
    "print 'Small arena, last 100 of every experiment (without disease vs with disease) from same distribution?'\n",
    "ks_2sample_print(df_small_without[df_small_without.Ind_ID >= 1900].shapeComplexity, df_small_with[df_small_with.Ind_ID >= 1900].shapeComplexity)\n",
    "\n",
    "print 80*'-'\n",
    "print\n",
    "\n",
    "print 'Big without vs small without disease'\n",
    "ks_2sample_print(df_big_without.shapeComplexity, df_small_without.shapeComplexity) \n",
    "\n",
    "print 'Big with vs small with disease'\n",
    "ks_2sample_print(df_big_with.shapeComplexity, df_small_with.shapeComplexity)"
   ]
  },
  {
   "cell_type": "markdown",
   "metadata": {},
   "source": [
    "Shows that the shape complexity decreases over time, i.e. it tends to go for square shapes.\n",
    "- Start is are not significantly different (Great!)\n",
    "- Same distribution in the end (for big arena) shows that with and without disease end up at the same complexity in shape\n",
    "    \n",
    "Evolutionary bloat is occuring. It is easy to go from small shapes to large ones but hard to evolve back to small shapes. (Heard about this in class about Genetic Programming, not sure whether this is also the case in Evolutionary systems). Given room individuals would probably grow even bigger than 10x10x10.\n",
    "\n",
    "Shown in the following figure is the number of cells of the individuals over time:"
   ]
  },
  {
   "cell_type": "code",
   "execution_count": null,
   "metadata": {
    "collapsed": false
   },
   "outputs": [],
   "source": [
    "FG = sns.lmplot(data=df, x='Ind_ID', y='absCellCount', lowess=True, hue='Exp_type', col='Arena_Size')\n",
    "set_alpha_axes(FG.axes, 0.05)\n",
    "set_limits_axes(FG.axes, (0,2000), (0,1000))\n",
    "\n",
    "FG = sns.lmplot(data=df, x='Ind_ID', y='absCellCount', lowess=True, hue='Exp_Num', col='Arena_Size', row='Exp_type', legend=False)\n",
    "set_alpha_axes(FG.axes, 0.05)\n",
    "set_limits_axes(FG.axes, (0,2000), (0,1000));"
   ]
  },
  {
   "cell_type": "markdown",
   "metadata": {},
   "source": [
    "Same figure of the experiments with bigger arena but not clipped to 2000 individuals"
   ]
  },
  {
   "cell_type": "code",
   "execution_count": null,
   "metadata": {
    "collapsed": false
   },
   "outputs": [],
   "source": [
    "FG = sns.lmplot(data=df_bigger, x='Ind_ID', y='absCellCount', lowess=True, hue='Exp_type', col='Arena_Size')\n",
    "set_alpha_axes(FG.axes, 0.05)\n",
    "set_limits_axes(FG.axes, (0,5000), (0,1000));"
   ]
  },
  {
   "cell_type": "markdown",
   "metadata": {},
   "source": [
    "### Relationship of cellcount vs shape complexity"
   ]
  },
  {
   "cell_type": "code",
   "execution_count": null,
   "metadata": {
    "collapsed": false
   },
   "outputs": [],
   "source": [
    "FG = sns.lmplot(data=df, x='absCellCount', y='shapeComplexity', lowess=True, hue='Exp_type', col='Arena_Size')\n",
    "set_alpha_axes(FG.axes, 0.05)\n",
    "set_limits_axes(FG.axes, (0,1000), (0,2));"
   ]
  },
  {
   "cell_type": "markdown",
   "metadata": {},
   "source": [
    "The average size of the softbots climbs very quickly which explains the decrease of the shape complexity. This should also mean that the number of limbs and the number of triangles should also go down."
   ]
  },
  {
   "cell_type": "code",
   "execution_count": null,
   "metadata": {
    "collapsed": false
   },
   "outputs": [],
   "source": [
    "FG = sns.lmplot(data=df, x='Ind_ID', y='hullRatio', lowess=True, hue='Exp_type', col='Arena_Size')\n",
    "set_alpha_axes(FG.axes, 0.05)\n",
    "set_limits_axes(FG.axes, (0,2000), (0,1));"
   ]
  },
  {
   "cell_type": "code",
   "execution_count": null,
   "metadata": {
    "collapsed": false
   },
   "outputs": [],
   "source": [
    "FG = sns.lmplot(data=df, x='Ind_ID', y='triangles', lowess=True, hue='Exp_type', col='Arena_Size')\n",
    "set_alpha_axes(FG.axes, 0.05)\n",
    "set_limits_axes(FG.axes, (0,2000), (0,100));"
   ]
  },
  {
   "cell_type": "code",
   "execution_count": null,
   "metadata": {
    "collapsed": false
   },
   "outputs": [],
   "source": [
    "FG = sns.lmplot(data=df, x='Ind_ID', y='limbs', lowess=True, hue='Exp_type', col='Arena_Size')\n",
    "set_alpha_axes(FG.axes, 0.05)\n",
    "set_limits_axes(FG.axes, (0,2000), (0,10));"
   ]
  },
  {
   "cell_type": "markdown",
   "metadata": {},
   "source": [
    "Which they do. All tend to the lowest value possible, 0, 12 and 1 respectively.\n",
    "\n",
    "This shows that the complexity of the shapes tends to go down over time. It seems that having the disease in the environment has no visible impact on the complexity of the shapes. Something that is explained by the fact that the disease itself has no impact on shape but solely on tissue types."
   ]
  },
  {
   "cell_type": "markdown",
   "metadata": {},
   "source": [
    "### Shape vs Distance\n",
    "\n",
    "How do the shape and distance relate?"
   ]
  },
  {
   "cell_type": "code",
   "execution_count": null,
   "metadata": {
    "collapsed": false,
    "scrolled": true
   },
   "outputs": [],
   "source": [
    "FG = sns.lmplot(data=df, x='shapeComplexity', y='euclideanStep', hue='Exp_type', col='Arena_Size')\n",
    "set_alpha_axes(FG.axes, 0.5)\n",
    "set_limits_axes(FG.axes, (0.02,1.5), (-0.1, 16.5));"
   ]
  },
  {
   "cell_type": "code",
   "execution_count": null,
   "metadata": {
    "collapsed": false
   },
   "outputs": [],
   "source": [
    "print 'Kendall tau b correlation:'\n",
    "df[['shapeComplexity','euclideanStep']].corr(method='kendall')"
   ]
  },
  {
   "cell_type": "markdown",
   "metadata": {},
   "source": [
    "There is no real impact of shape complexity on the distance a individual makes. "
   ]
  },
  {
   "cell_type": "markdown",
   "metadata": {},
   "source": [
    "### Tissue Complexity\n",
    "\n",
    "This plot shows the Tissue Complexity over time (Using Individual id as a proxy for time). Will individuals in a world with the disease adapt to this and have different tissue complexities?"
   ]
  },
  {
   "cell_type": "code",
   "execution_count": null,
   "metadata": {
    "collapsed": false
   },
   "outputs": [],
   "source": [
    "FG = sns.lmplot(data=df, x='Ind_ID', y='CompositionEntropy', lowess=True, hue='Exp_type')\n",
    "set_alpha_axes(FG.axes, 0.05)\n",
    "set_limits_axes(FG.axes, (0,2000), (0,2.5))\n",
    "\n",
    "FG = sns.lmplot(data=df, x='Ind_ID', y='CompositionEntropy', lowess=True, hue='Exp_type', col='Arena_Size')\n",
    "set_alpha_axes(FG.axes, 0.05)\n",
    "set_limits_axes(FG.axes, (0,2000), (0,2.5));"
   ]
  },
  {
   "cell_type": "code",
   "execution_count": null,
   "metadata": {
    "collapsed": false
   },
   "outputs": [],
   "source": [
    "FG = sns.lmplot(data=df, x='Ind_ID', y='CompositionEntropy', lowess=True, hue='Exp_Num', col='Arena_Size', row='Exp_type')\n",
    "set_alpha_axes(FG.axes, 0.05)\n",
    "set_limits_axes(FG.axes, (0,2000), (0,2.5));"
   ]
  },
  {
   "cell_type": "code",
   "execution_count": null,
   "metadata": {
    "collapsed": false
   },
   "outputs": [],
   "source": [
    "print 'All experiments : without disease vs with disease'\n",
    "ks_2sample_print(df_without.CompositionEntropy, df_with.CompositionEntropy)\n",
    "\n",
    "print 'All experiments : first 100 of every experiment (without disease vs with disease) from same distribution? '\n",
    "ks_2sample_print(df_without[df_without.Ind_ID <= 100].CompositionEntropy, df_with[df_with.Ind_ID <= 100].CompositionEntropy)\n",
    "\n",
    "print 'All experiments : last 100 of every experiment (without disease vs with disease) from same distribution?'\n",
    "ks_2sample_print(df_without[df_without.Ind_ID >= 1900].CompositionEntropy, df_with[df_with.Ind_ID >= 1900].CompositionEntropy)\n",
    "\n",
    "\n",
    "print 80*'-'\n",
    "print\n",
    "\n",
    "print 'Big arena : without disease vs with disease'\n",
    "ks_2sample_print(df_big_without.CompositionEntropy, df_big_with.CompositionEntropy)\n",
    "\n",
    "print 'Big arena, first 100 of every experiment (without disease vs with disease) from same distribution? '\n",
    "ks_2sample_print(df_big_without[df_big_without.Ind_ID <= 100].CompositionEntropy, df_big_with[df_big_with.Ind_ID <= 100].CompositionEntropy)\n",
    "\n",
    "print 'Big arena, last 100 of every experiment (without disease vs with disease) from same distribution?'\n",
    "ks_2sample_print(df_big_without[df_big_without.Ind_ID >= 1900].CompositionEntropy, df_big_with[df_big_with.Ind_ID >= 1900].CompositionEntropy)\n",
    "\n",
    "print 80*'-'\n",
    "print\n",
    "\n",
    "\n",
    "print 'Small arena : without disease vs with disease'\n",
    "ks_2sample_print(df_small_without.CompositionEntropy, df_small_with.CompositionEntropy)\n",
    "\n",
    "print 'Small arena, first 100 of every experiment (without disease vs with disease) from same distribution?'\n",
    "ks_2sample_print(df_small_without[df_small_without.Ind_ID <= 100].CompositionEntropy, df_small_with[df_small_with.Ind_ID <= 100].CompositionEntropy)\n",
    "\n",
    "print 'Small arena, last 100 of every experiment (without disease vs with disease) from same distribution?'\n",
    "ks_2sample_print(df_small_without[df_small_without.Ind_ID >= 1900].CompositionEntropy, df_small_with[df_small_with.Ind_ID >= 1900].CompositionEntropy)\n",
    "\n",
    "print 80*'-'\n",
    "print\n",
    "\n",
    "print 'Big without vs small without disease'\n",
    "ks_2sample_print(df_big_without.CompositionEntropy, df_small_without.CompositionEntropy) \n",
    "\n",
    "print 'Big with vs small with disease'\n",
    "ks_2sample_print(df_big_with.CompositionEntropy, df_small_with.CompositionEntropy)\n"
   ]
  },
  {
   "cell_type": "markdown",
   "metadata": {},
   "source": [
    "Disease has a lot bigger impact on the tissue complexity than on shape complexity. This is due to the fact that they (probably) compensate for the fact that some muscles turn into bone."
   ]
  },
  {
   "cell_type": "code",
   "execution_count": null,
   "metadata": {
    "collapsed": false
   },
   "outputs": [],
   "source": [
    "FG = sns.lmplot(data=df, x='CompositionEntropy', y='euclideanStep', fit_reg=False, hue='Exp_type', col='Arena_Size')\n",
    "set_alpha_axes(FG.axes, 0.5)\n",
    "set_limits_axes(FG.axes, (0,2.5), (0,16.5))"
   ]
  },
  {
   "cell_type": "code",
   "execution_count": null,
   "metadata": {
    "collapsed": false
   },
   "outputs": [],
   "source": [
    "print 'Kendall tau b correlation:'\n",
    "df[[\"CompositionEntropy\",\"euclideanStep\"]].corr(method=\"kendall\")"
   ]
  },
  {
   "cell_type": "markdown",
   "metadata": {},
   "source": [
    "Tissue complexity has a bigger impact on distance traveled. Although I don't think we can say that there is a big relation."
   ]
  },
  {
   "cell_type": "markdown",
   "metadata": {},
   "source": [
    "### Shape complexity vs Tissue complexity"
   ]
  },
  {
   "cell_type": "code",
   "execution_count": null,
   "metadata": {
    "collapsed": false,
    "scrolled": true
   },
   "outputs": [],
   "source": [
    "FG = sns.lmplot(data=df, x='shapeComplexity', y='CompositionEntropy', fit_reg=False, hue='Exp_type', col='Arena_Size')\n",
    "set_alpha_axes(FG.axes, 0.5)\n",
    "set_limits_axes(FG.axes, (0,2), (0,2.5))"
   ]
  },
  {
   "cell_type": "code",
   "execution_count": null,
   "metadata": {
    "collapsed": false,
    "scrolled": false
   },
   "outputs": [],
   "source": [
    "FG = sns.lmplot(data=df, x='lifetime', y='shapeComplexity', lowess=True, hue='Exp_type', col='Arena_Size')\n",
    "set_alpha_axes(FG.axes, 0.05)\n",
    "set_limits_axes(FG.axes, (1.5,5), (0,2))"
   ]
  },
  {
   "cell_type": "code",
   "execution_count": null,
   "metadata": {
    "collapsed": false
   },
   "outputs": [],
   "source": [
    "FG = sns.lmplot(data=df, x='lifetime', y='CompositionEntropy', lowess=True, hue='Exp_type', col='Arena_Size', truncate=False)\n",
    "set_alpha_axes(FG.axes, 0.05)\n",
    "set_limits_axes(FG.axes, (1.5,5), (0,2.5))"
   ]
  },
  {
   "cell_type": "markdown",
   "metadata": {
    "collapsed": true
   },
   "source": [
    "### # of children vs complexity measures\n",
    "Data not available yet. Need to write feature extractor, not sure how to do it best."
   ]
  },
  {
   "cell_type": "code",
   "execution_count": null,
   "metadata": {
    "collapsed": true
   },
   "outputs": [],
   "source": []
  }
 ],
 "metadata": {
  "kernelspec": {
   "display_name": "Python 2",
   "language": "python",
   "name": "python2"
  },
  "language_info": {
   "codemirror_mode": {
    "name": "ipython",
    "version": 2
   },
   "file_extension": ".py",
   "mimetype": "text/x-python",
   "name": "python",
   "nbconvert_exporter": "python",
   "pygments_lexer": "ipython2",
   "version": "2.7.9"
  }
 },
 "nbformat": 4,
 "nbformat_minor": 0
}
